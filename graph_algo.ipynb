{
 "cells": [
  {
   "attachments": {},
   "cell_type": "markdown",
   "metadata": {},
   "source": [
    "# Опис першого завдання"
   ]
  },
  {
   "cell_type": "markdown",
   "metadata": {},
   "source": [
    "Виконали: Дзвенислава Бутинець, Назар Тхір"
   ]
  },
  {
   "cell_type": "markdown",
   "metadata": {},
   "source": [
    "Мета завдання: реалізувати алгоритм Прима для знаходження мінімального остовного дерева графа і порівняти його продуктивність з вбудованим алгоритмом.\n",
    "\n",
    "Опис завдання: знаходження мінімального кісткового дерева - підмножини ребер неорієнтованого зв'язного зваженого графа, яка включає всі вершини, та для якої сума ваг ребер є мінімальною.\n",
    "\n",
    "\n",
    "Процес дослідження: виконання проекту розпочався з дослідження роботи алгоритму, тобто аналізу псевдокоду. Після розпочалася розробка. Спочатку даний алгоритм був реалізований неоптимально, це було виявлено під час етапу часового порівняння. Тому було знайдено більш ефективний спосіб реалізації.\n"
   ]
  },
  {
   "cell_type": "code",
   "execution_count": 17,
   "metadata": {},
   "outputs": [],
   "source": [
    "import random\n",
    "import networkx as nx\n",
    "import matplotlib.pyplot as plt\n",
    "from itertools import combinations, groupby\n",
    "from networkx.algorithms import tree\n",
    "from networkx.algorithms import bellman_ford_predecessor_and_distance\n",
    "import time\n",
    "from tqdm import tqdm\n",
    "import matplotlib.pyplot as plt"
   ]
  },
  {
   "cell_type": "markdown",
   "metadata": {},
   "source": [
    "## Generating graph"
   ]
  },
  {
   "cell_type": "code",
   "execution_count": 20,
   "metadata": {},
   "outputs": [],
   "source": [
    "# You can use this function to generate a random graph with 'num_of_nodes' nodes\n",
    "# and 'completeness' probability of an edge between any two nodes\n",
    "# If 'directed' is True, the graph will be directed\n",
    "# If 'draw' is True, the graph will be drawn\n",
    "def gnp_random_connected_graph(num_of_nodes: int,\n",
    "                               completeness: int,\n",
    "                               directed: bool = False,\n",
    "                               draw: bool = False):\n",
    "    \"\"\"\n",
    "    Generates a random graph, similarly to an Erdős-Rényi \n",
    "    graph, but enforcing that the resulting graph is conneted (in case of undirected graphs)\n",
    "    \"\"\"\n",
    "\n",
    "    \n",
    "    if directed:\n",
    "        G = nx.DiGraph()\n",
    "    else:\n",
    "        G = nx.Graph()\n",
    "    edges = combinations(range(num_of_nodes), 2)\n",
    "    G.add_nodes_from(range(num_of_nodes))\n",
    "    \n",
    "    for _, node_edges in groupby(edges, key = lambda x: x[0]):\n",
    "        node_edges = list(node_edges)\n",
    "        random_edge = random.choice(node_edges)\n",
    "        if random.random() < 0.5:\n",
    "            random_edge = random_edge[::-1]\n",
    "        G.add_edge(*random_edge)\n",
    "        for e in node_edges:\n",
    "            if random.random() < completeness:\n",
    "                G.add_edge(*e)\n",
    "                \n",
    "    for (u,v,w) in G.edges(data=True):\n",
    "        w['weight'] = random.randint(0, 20)\n",
    "                \n",
    "    if draw: \n",
    "        plt.figure(figsize=(10,6))\n",
    "        if directed:\n",
    "            # draw with edge weights\n",
    "            pos = nx.arf_layout(G)\n",
    "            nx.draw(G,pos, node_color='lightblue', \n",
    "                    with_labels=True,\n",
    "                    node_size=500, \n",
    "                    arrowsize=20, \n",
    "                    arrows=True)\n",
    "            labels = nx.get_edge_attributes(G,'weight')\n",
    "            nx.draw_networkx_edge_labels(G, pos,edge_labels=labels)\n",
    "            \n",
    "        else:\n",
    "            nx.draw(G, node_color='lightblue', \n",
    "                with_labels=True, \n",
    "                node_size=500)\n",
    "        \n",
    "    return G"
   ]
  },
  {
   "attachments": {},
   "cell_type": "markdown",
   "metadata": {},
   "source": [
    "# Task 1 (Prim's algorithm)"
   ]
  },
  {
   "cell_type": "markdown",
   "metadata": {},
   "source": [
    "## Алгоритм\n",
    "\n",
    "input - граф\n",
    "\n",
    "output - список кортежів, елементами, якого є ребра\n",
    "\n",
    "Спочатку ми формуємо два списки - ребер та вершин, відвідуваних вершин(visited). Set visited перед початком роботи алгоритму визначений як 0(початкова вершина). Після цього ми сортуємо список ребер за вагою у порядку зростання, це потрібно для того аби в майбутньому знаходити інцидентні ребра до пройдених вершин і витягувати їх із списку таке ребро з найменшою вагою. Тоді ми запускаємо цикл, який буде складатися з nodes-1 ітерацій(де nodes - це список вершин). Для кожного ребра, я перевіряю дві умови - інцидентність до відвіданих вершин та наявність циклу. Якщо таке ребро виявлене воно додається до списку minimum_tree.\n",
    "\n",
    "\n"
   ]
  },
  {
   "cell_type": "code",
   "execution_count": 81,
   "metadata": {},
   "outputs": [],
   "source": [
    "G = gnp_random_connected_graph(10, 1, False, False)"
   ]
  },
  {
   "cell_type": "code",
   "execution_count": 82,
   "metadata": {},
   "outputs": [],
   "source": [
    "mstp = tree.minimum_spanning_tree(G, algorithm=\"prim\")"
   ]
  },
  {
   "cell_type": "code",
   "execution_count": 83,
   "metadata": {},
   "outputs": [
    {
     "data": {
      "text/plain": [
       "[(0, 2), (2, 6), (6, 8), (6, 7), (1, 6), (7, 9), (0, 4), (2, 3), (5, 7)]"
      ]
     },
     "execution_count": 83,
     "metadata": {},
     "output_type": "execute_result"
    }
   ],
   "source": [
    "def prims_algorytms(graph: list[tuple]) -> list:\n",
    "    \"\"\"\n",
    "    Algorytm which finds minimum spanning tree.\n",
    "    \"\"\"\n",
    "    nodes = graph.nodes()\n",
    "    edges = sorted(graph.edges(data=True), key= lambda x: x[2][\"weight\"])\n",
    "    graph.edges(data = True)\n",
    "    minimum_tree = []\n",
    "    visited = {0}\n",
    "    for i in range(len(nodes) - 1):\n",
    "        for edge in edges:\n",
    "            if (edge[0] in visited and not edge[1] in visited) or (edge[1] in visited and not edge[0] in visited):\n",
    "                minimum_tree.append((edge[0], edge[1]))\n",
    "                visited.update((edge[0], edge[1]))\n",
    "                edges.remove(edge)\n",
    "                break\n",
    "    return minimum_tree\n",
    "prims_algorytms(gnp_random_connected_graph(10, 0.5, False))"
   ]
  },
  {
   "cell_type": "code",
   "execution_count": 88,
   "metadata": {},
   "outputs": [],
   "source": [
    "def timer_our(n):\n",
    "    NUM_OF_ITERATIONS = 1000\n",
    "    time_taken = 0\n",
    "    for i in range(NUM_OF_ITERATIONS):\n",
    "\n",
    "        # note that we should not measure time of graph creation\n",
    "        G = gnp_random_connected_graph(n, 0.5, False, False)\n",
    "\n",
    "        start = time.time()\n",
    "        try:\n",
    "            prims_algorytms(G)\n",
    "        except:\n",
    "            continue\n",
    "        end = time.time()\n",
    "\n",
    "        time_taken += end - start\n",
    "\n",
    "        return (time_taken / NUM_OF_ITERATIONS)\n",
    "    \n",
    "def timer_ntwx(n):\n",
    "    NUM_OF_ITERATIONS = 1000\n",
    "    time_taken = 0\n",
    "    for i in range(NUM_OF_ITERATIONS):\n",
    "\n",
    "        # note that we should not measure time of graph creation\n",
    "        G = gnp_random_connected_graph(n, 0.5, False, False)\n",
    "\n",
    "        start = time.time()\n",
    "        try:\n",
    "            tree.minimum_spanning_tree(G, algorithm=\"prim\")\n",
    "        except:\n",
    "            continue\n",
    "        end = time.time()\n",
    "\n",
    "        time_taken += end - start\n",
    "\n",
    "        return (time_taken / NUM_OF_ITERATIONS)"
   ]
  },
  {
   "cell_type": "code",
   "execution_count": 94,
   "metadata": {},
   "outputs": [
    {
     "data": {
      "image/png": "[encoded data removed]",
      "text/plain": [
       "<Figure size 640x480 with 1 Axes>"
      ]
     },
     "metadata": {},
     "output_type": "display_data"
    }
   ],
   "source": [
    "x = [n for n in range(10, 200, 5)]\n",
    "y_our = [timer_our(n) for n in x]\n",
    "y_ntwx = [timer_ntwx(n) for n in x]\n",
    "plt.plot(x,y_our)\n",
    "plt.plot(x,y_ntwx)\n",
    "plt.show()"
   ]
  },
  {
   "attachments": {},
   "cell_type": "markdown",
   "metadata": {},
   "source": [
    "Синій - наш, оранжевий - вбудований."
   ]
  },
  {
   "attachments": {},
   "cell_type": "markdown",
   "metadata": {},
   "source": [
    "# Task 2 (Bellman-Ford algorithm)"
   ]
  },
  {
   "attachments": {},
   "cell_type": "markdown",
   "metadata": {},
   "source": [
    "## Алгоритм\n",
    "\n",
    "input - граф\n",
    "\n",
    "output - масив з точками через які ми добирались, масив з відстаннями\n",
    "\n",
    "Алгоритм написаний по псевдокоду. Для швидкості використано бібліотеку numpy.\n"
   ]
  },
  {
   "cell_type": "code",
   "execution_count": 24,
   "metadata": {},
   "outputs": [],
   "source": [
    "G = gnp_random_connected_graph(10, 0.5, True, False)\n"
   ]
  },
  {
   "cell_type": "code",
   "execution_count": 27,
   "metadata": {},
   "outputs": [
    {
     "data": {
      "text/plain": [
       "(array([ 0., 11., inf,  0.,  2., 11.,  8.,  5.,  3., 12.]),\n",
       " array([ 0.,  0., inf,  0.,  0.,  4.,  4.,  3.,  3.,  8.]))"
      ]
     },
     "execution_count": 27,
     "metadata": {},
     "output_type": "execute_result"
    }
   ],
   "source": [
    "import numpy as np\n",
    "\n",
    "def new_bellman(G, source):\n",
    "    edges = list(G.edges()(data=True))\n",
    "    nodes = list(G.nodes())\n",
    "    if source not in nodes:\n",
    "        raise KeyError(f\"Node {source} is not in the graph.\")\n",
    "    dist = np.zeros((len(nodes)+1, len(nodes)))\n",
    "    pred = np.zeros((len(nodes)))\n",
    "    pred[:] = float('inf')\n",
    "    for i in range(len(nodes)):\n",
    "        dist[0,:] = float('inf')\n",
    "    pred[0] = 0\n",
    "    dist[0,source] = 0\n",
    "    for i in range(1, len(nodes)+1):\n",
    "        dist[i,:] = dist[i-1,:]\n",
    "        for u, v, w in edges:\n",
    "            if dist[i,v] > dist[i-1,u] + w['weight']:\n",
    "                dist[i,v] = dist[i-1,u] + w['weight']\n",
    "                pred[v] = u\n",
    "        if (dist[i-1,:] == dist[i,:]).all():\n",
    "            return dist[i,:], pred\n",
    "    raise ValueError(f'Negative cycle detected')\n",
    "new_bellman(G, 0)"
   ]
  },
  {
   "cell_type": "code",
   "execution_count": 87,
   "metadata": {},
   "outputs": [],
   "source": [
    "def timer_our(n):\n",
    "    NUM_OF_ITERATIONS = 1000\n",
    "    time_taken = 0\n",
    "    for i in range(NUM_OF_ITERATIONS):\n",
    "\n",
    "        # note that we should not measure time of graph creation\n",
    "        G = gnp_random_connected_graph(n, 0.5, True, False)\n",
    "\n",
    "        start = time.time()\n",
    "        try:\n",
    "            new_bellman(G, 0)\n",
    "        except:\n",
    "            continue\n",
    "        end = time.time()\n",
    "\n",
    "        time_taken += end - start\n",
    "\n",
    "        return (time_taken / NUM_OF_ITERATIONS)\n",
    "    \n",
    "def timer_ntwx(n):\n",
    "    NUM_OF_ITERATIONS = 1000\n",
    "    time_taken = 0\n",
    "    for i in range(NUM_OF_ITERATIONS):\n",
    "\n",
    "        # note that we should not measure time of graph creation\n",
    "        G = gnp_random_connected_graph(n, 0.5, True, False)\n",
    "\n",
    "        start = time.time()\n",
    "        try:\n",
    "            bellman_ford_predecessor_and_distance(G, 0)\n",
    "        except:\n",
    "            continue\n",
    "        end = time.time()\n",
    "\n",
    "        time_taken += end - start\n",
    "\n",
    "        return (time_taken / NUM_OF_ITERATIONS)"
   ]
  },
  {
   "cell_type": "code",
   "execution_count": 76,
   "metadata": {},
   "outputs": [
    {
     "data": {
      "image/png": "[encoded data removed]",
      "text/plain": [
       "<Figure size 640x480 with 1 Axes>"
      ]
     },
     "metadata": {},
     "output_type": "display_data"
    }
   ],
   "source": [
    "x = [n for n in range(10, 200, 5)]\n",
    "y_our = [timer_our(n) for n in x]\n",
    "y_ntwx = [timer_ntwx(n) for n in x]\n",
    "plt.plot(x,y_our)\n",
    "plt.plot(x,y_ntwx)\n",
    "plt.show()"
   ]
  },
  {
   "attachments": {},
   "cell_type": "markdown",
   "metadata": {},
   "source": [
    "Синій - наш, оранжевий - вбудований."
   ]
  },
  {
   "attachments": {},
   "cell_type": "markdown",
   "metadata": {},
   "source": [
    "# Висновок"
   ]
  },
  {
   "attachments": {},
   "cell_type": "markdown",
   "metadata": {},
   "source": [
    "Обидва алгоритми працюють чудовов. Але, очевидно, що зі збільшенням кількості вершин в графі час виконання алгоритму теж зростає. Час можна було б покращити оптимізацією алгоритму. "
   ]
  }
 ],
 "metadata": {
  "kernelspec": {
   "display_name": "Python 3",
   "language": "python",
   "name": "python3"
  },
  "language_info": {
   "codemirror_mode": {
    "name": "ipython",
    "version": 3
   },
   "file_extension": ".py",
   "mimetype": "text/x-python",
   "name": "python",
   "nbconvert_exporter": "python",
   "pygments_lexer": "ipython3",
   "version": "3.10.8"
  },
  "vscode": {
   "interpreter": {
    "hash": "b0fa6594d8f4cbf19f97940f81e996739fb7646882a419484c72d19e05852a7e"
   }
  }
 },
 "nbformat": 4,
 "nbformat_minor": 4
}
